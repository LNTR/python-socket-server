{
 "cells": [
  {
   "cell_type": "code",
   "execution_count": 18,
   "metadata": {},
   "outputs": [
    {
     "name": "stdout",
     "output_type": "stream",
     "text": [
      "GET /sum.php HTTP/1.1\n",
      "Host: 127.0.0.1:2728\n",
      "User-Agent: Mozilla/5.0 (Windows NT 10.0; Win64; x64; rv:109.0) Gecko/20100101 Firefox/117.0\n",
      "Accept: text/html,application/xhtml+xml,application/xml;q=0.9,image/avif,image/webp,*/*;q=0.8\n",
      "Accept-Language: en-US,en;q=0.5\n",
      "Accept-Encoding: gzip, deflate, br\n",
      "Content-Type: application/x-www-form-urlencoded\n",
      "Content-Length: 7\n",
      "Origin: http://127.0.0.1:2728\n",
      "Connection: keep-alive\n",
      "Referer: http://127.0.0.1:2728/\n",
      "Cookie: _ga_6CNXK25BR3=GS1.1.1677079211.1.1.1677079236.0.0.0; _ga=GA1.1.1067175878.1677079212; _ga_6NXDTMKZE5=GS1.1.1677079211.1.1.1677079236.0.0.0; _ga_7SY6DXFYDX=GS1.1.1677079212.1.0.1677079236.0.0.0; _clck=1fmg2z9|1|f9c|0; ometria=2_cid%3DTuSHscxiJ3fokuTA%26nses%3D3%26osts%3D1684208694%26sid%3Da7164c1142cxAzx25nxV1%26npv%3D0%26tids%3D%26slt%3D1684227089; _fw_crm_v=e62a4b88-0c15-44a5-e1b4-20b951db00e4; _ga_7J4HVM46YQ=GS1.1.1684227148.1.0.1684227156.52.0.0; _pin_unauth=dWlkPU5qUXpZV1JsTm1VdFlUVTNOUzAwT1RCbExXRm1NV1V0Wm1aaFl6ZzFPVEE0T1RRdw; _uetvid=016e4a90f3c711ed88eecb41693ea2d2\n",
      "Upgrade-Insecure-Requests: 1\n",
      "Sec-Fetch-Dest: document\n",
      "Sec-Fetch-Mode: navigate\n",
      "Sec-Fetch-Site: same-origin\n",
      "Sec-Fetch-User: ?1\n",
      "\n",
      "a=1&b=2\n"
     ]
    }
   ],
   "source": [
    "stream='GET /sum.php HTTP/1.1\\r\\nHost: 127.0.0.1:2728\\r\\nUser-Agent: Mozilla/5.0 (Windows NT 10.0; Win64; x64; rv:109.0) Gecko/20100101 Firefox/117.0\\r\\nAccept: text/html,application/xhtml+xml,application/xml;q=0.9,image/avif,image/webp,*/*;q=0.8\\r\\nAccept-Language: en-US,en;q=0.5\\r\\nAccept-Encoding: gzip, deflate, br\\r\\nContent-Type: application/x-www-form-urlencoded\\r\\nContent-Length: 7\\r\\nOrigin: http://127.0.0.1:2728\\r\\nConnection: keep-alive\\r\\nReferer: http://127.0.0.1:2728/\\r\\nCookie: _ga_6CNXK25BR3=GS1.1.1677079211.1.1.1677079236.0.0.0; _ga=GA1.1.1067175878.1677079212; _ga_6NXDTMKZE5=GS1.1.1677079211.1.1.1677079236.0.0.0; _ga_7SY6DXFYDX=GS1.1.1677079212.1.0.1677079236.0.0.0; _clck=1fmg2z9|1|f9c|0; ometria=2_cid%3DTuSHscxiJ3fokuTA%26nses%3D3%26osts%3D1684208694%26sid%3Da7164c1142cxAzx25nxV1%26npv%3D0%26tids%3D%26slt%3D1684227089; _fw_crm_v=e62a4b88-0c15-44a5-e1b4-20b951db00e4; _ga_7J4HVM46YQ=GS1.1.1684227148.1.0.1684227156.52.0.0; _pin_unauth=dWlkPU5qUXpZV1JsTm1VdFlUVTNOUzAwT1RCbExXRm1NV1V0Wm1aaFl6ZzFPVEE0T1RRdw; _uetvid=016e4a90f3c711ed88eecb41693ea2d2\\r\\nUpgrade-Insecure-Requests: 1\\r\\nSec-Fetch-Dest: document\\r\\nSec-Fetch-Mode: navigate\\r\\nSec-Fetch-Site: same-origin\\r\\nSec-Fetch-User: ?1\\r\\n\\r\\na=1&b=2'\n",
    "print(stream)"
   ]
  },
  {
   "cell_type": "code",
   "execution_count": 3,
   "metadata": {},
   "outputs": [
    {
     "name": "stdout",
     "output_type": "stream",
     "text": [
      "GET /foo.jpg HTTP/1.1\n",
      "Host: localhost:2728\n",
      "Connection: keep-alive\n",
      "sec-ch-ua: \"Chromium\";v=\"116\", \"Not)A;Brand\";v=\"24\", \"Google Chrome\";v=\"116\"\n",
      "sec-ch-ua-mobile: ?0\n",
      "User-Agent: Mozilla/5.0 (Windows NT 10.0; Win64; x64) AppleWebKit/537.36 (KHTML, like Gecko) Chrome/116.0.0.0 Safari/537.36\n",
      "sec-ch-ua-platform: \"Windows\"\n",
      "Accept: image/avif,image/webp,image/apng,image/svg+xml,image/*,*/*;q=0.8\n",
      "Sec-Fetch-Site: same-origin\n",
      "Sec-Fetch-Mode: no-cors\n",
      "Sec-Fetch-Dest: image\n",
      "Referer: http://localhost:2728/test.html\n",
      "Accept-Encoding: gzip, deflate, br\n",
      "Accept-Language: en-US,en;q=0.9\n",
      "Cookie: _xsrf=2|cfcf66f7|4f771b79d79adc8459caa06edddcb602|1693018452; pma_lang=en\n",
      "\n",
      "\n"
     ]
    }
   ],
   "source": [
    "stream=b'GET /foo.jpg HTTP/1.1\\r\\nHost: localhost:2728\\r\\nConnection: keep-alive\\r\\nsec-ch-ua: \"Chromium\";v=\"116\", \"Not)A;Brand\";v=\"24\", \"Google Chrome\";v=\"116\"\\r\\nsec-ch-ua-mobile: ?0\\r\\nUser-Agent: Mozilla/5.0 (Windows NT 10.0; Win64; x64) AppleWebKit/537.36 (KHTML, like Gecko) Chrome/116.0.0.0 Safari/537.36\\r\\nsec-ch-ua-platform: \"Windows\"\\r\\nAccept: image/avif,image/webp,image/apng,image/svg+xml,image/*,*/*;q=0.8\\r\\nSec-Fetch-Site: same-origin\\r\\nSec-Fetch-Mode: no-cors\\r\\nSec-Fetch-Dest: image\\r\\nReferer: http://localhost:2728/test.html\\r\\nAccept-Encoding: gzip, deflate, br\\r\\nAccept-Language: en-US,en;q=0.9\\r\\nCookie: _xsrf=2|cfcf66f7|4f771b79d79adc8459caa06edddcb602|1693018452; pma_lang=en\\r\\n\\r\\n'\n",
    "print(stream.decode(\"utf-8\"))"
   ]
  },
  {
   "cell_type": "code",
   "execution_count": 16,
   "metadata": {},
   "outputs": [
    {
     "data": {
      "text/plain": [
       "['a', '', 'As']"
      ]
     },
     "execution_count": 16,
     "metadata": {},
     "output_type": "execute_result"
    }
   ],
   "source": [
    "import requests\n",
    "requests.get(\"https://google.com\",params={\"key\":\"?\"}).url\n"
   ]
  }
 ],
 "metadata": {
  "kernelspec": {
   "display_name": "throw_away_env",
   "language": "python",
   "name": "python3"
  },
  "language_info": {
   "codemirror_mode": {
    "name": "ipython",
    "version": 3
   },
   "file_extension": ".py",
   "mimetype": "text/x-python",
   "name": "python",
   "nbconvert_exporter": "python",
   "pygments_lexer": "ipython3",
   "version": "3.10.9"
  },
  "orig_nbformat": 4
 },
 "nbformat": 4,
 "nbformat_minor": 2
}
